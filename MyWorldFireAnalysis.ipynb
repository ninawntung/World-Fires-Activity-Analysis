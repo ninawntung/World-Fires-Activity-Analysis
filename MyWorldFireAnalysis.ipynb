{
 "cells": [
  {
   "attachments": {},
   "cell_type": "markdown",
   "metadata": {},
   "source": [
    "# World Fires Analysis"
   ]
  },
  {
   "attachments": {},
   "cell_type": "markdown",
   "metadata": {},
   "source": [
    "## 1-day"
   ]
  },
  {
   "cell_type": "code",
   "execution_count": 40,
   "metadata": {},
   "outputs": [
    {
     "name": "stdout",
     "output_type": "stream",
     "text": [
      "['latitude', 'longitude', 'brightness', 'scan', 'track', 'acq_date', 'acq_time', 'satellite', 'confidence', 'version', 'bright_t31', 'frp', 'daynight']\n",
      "0 latitude\n",
      "1 longitude\n",
      "2 brightness\n",
      "3 scan\n",
      "4 track\n",
      "5 acq_date\n",
      "6 acq_time\n",
      "7 satellite\n",
      "8 confidence\n",
      "9 version\n",
      "10 bright_t31\n",
      "11 frp\n",
      "12 daynight\n"
     ]
    },
    {
     "data": {
      "text/plain": [
       "'world_fires_1_day.html'"
      ]
     },
     "execution_count": 40,
     "metadata": {},
     "output_type": "execute_result"
    }
   ],
   "source": [
    "import csv\n",
    "from plotly.graph_objects import Scattergeo, Layout\n",
    "from plotly import offline\n",
    "from datetime import datetime\n",
    "\n",
    "MAX_ROW = 10000\n",
    "\n",
    "# Read file\n",
    "filename = 'world_fires_1_day.csv'\n",
    "with open(filename) as f:\n",
    "    reader = csv.reader(f)\n",
    "    header_row = next(reader)\n",
    "    print(header_row)\n",
    "\n",
    "    for index, column_header in enumerate(header_row):\n",
    "        print(index, column_header)\n",
    "\n",
    "# Extracting data\n",
    "    lats = []\n",
    "    lons = []\n",
    "    dates = []\n",
    "    brightnesses = []\n",
    "    hover_texts = []\n",
    "    \n",
    "    row_count = 0\n",
    "    for row in reader:\n",
    "        lat = row[0]\n",
    "        lon = row[1]\n",
    "        date = datetime.strptime(row[5],'%Y-%m-%d') \n",
    "        brightness = float(row[2])\n",
    "        hover_text = f\"{date.strftime('%d/%m/%y')} - {brightness}\"\n",
    "        \n",
    "        lats.append(lat)\n",
    "        lons.append(lon)\n",
    "        dates.append(date)\n",
    "        brightnesses.append(brightness)\n",
    "        hover_texts.append(hover_text)\n",
    "\n",
    "        row_count += 1\n",
    "\n",
    "        if row_count == MAX_ROW:\n",
    "            break\n",
    "\n",
    "# Map the world fires\n",
    "data = [{\n",
    "    'type': 'scattergeo',\n",
    "    'lon': lons,\n",
    "    'lat': lats,\n",
    "    'text': hover_texts,\n",
    "    'marker':{\n",
    "        'size': [brightness/20 for brightness in brightnesses],\n",
    "        'color':brightnesses,\n",
    "        'colorscale':'YlorRd',\n",
    "        'reversescale': False,\n",
    "        'colorbar': {'title':'Brightness'}\n",
    "    }\n",
    "}]\n",
    "\n",
    "my_layout = Layout(title='World Fires 1-day')\n",
    "\n",
    "fig = {'data':data, 'layout':my_layout}\n",
    "offline.plot(fig, filename='world_fires_1_day.html')\n"
   ]
  },
  {
   "cell_type": "code",
   "execution_count": null,
   "metadata": {},
   "outputs": [],
   "source": []
  }
 ],
 "metadata": {
  "kernelspec": {
   "display_name": "base",
   "language": "python",
   "name": "python3"
  },
  "language_info": {
   "codemirror_mode": {
    "name": "ipython",
    "version": 3
   },
   "file_extension": ".py",
   "mimetype": "text/x-python",
   "name": "python",
   "nbconvert_exporter": "python",
   "pygments_lexer": "ipython3",
   "version": "3.9.12"
  },
  "orig_nbformat": 4
 },
 "nbformat": 4,
 "nbformat_minor": 2
}
